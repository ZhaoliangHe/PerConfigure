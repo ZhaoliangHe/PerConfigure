{
 "cells": [
  {
   "cell_type": "markdown",
   "metadata": {
    "colab_type": "text",
    "id": "cT5cdSLPX0ui"
   },
   "source": [
    "# Intro to Object Detection Colab\n",
    "\n",
    "Welcome to the object detection colab! This demo will take you through the steps of running an \"out-of-the-box\" detection model in SavedModel format on a collection of images.\n",
    "\n"
   ]
  },
  {
   "cell_type": "markdown",
   "metadata": {
    "colab_type": "text",
    "id": "vPs64QA1Zdov"
   },
   "source": [
    "Imports"
   ]
  },
  {
   "cell_type": "code",
   "execution_count": 1,
   "metadata": {
    "colab": {},
    "colab_type": "code",
    "id": "yn5_uV1HLvaz"
   },
   "outputs": [],
   "source": [
    "import io\n",
    "import os\n",
    "import scipy.misc\n",
    "import numpy as np\n",
    "import six\n",
    "import time\n",
    "import pathlib\n",
    "import pickle\n",
    "\n",
    "from six import BytesIO\n",
    "\n",
    "import matplotlib\n",
    "import matplotlib.pyplot as plt\n",
    "from PIL import Image, ImageDraw, ImageFont\n",
    "\n",
    "import tensorflow as tf\n",
    "from object_detection.utils import visualization_utils as viz_utils\n",
    "\n",
    "%matplotlib inline"
   ]
  },
  {
   "cell_type": "code",
   "execution_count": 2,
   "metadata": {
    "code_folding": [
     0,
     20
    ],
    "colab": {},
    "colab_type": "code",
    "id": "-y9R0Xllefec"
   },
   "outputs": [],
   "source": [
    "def load_image_into_numpy_array(path):\n",
    "  \"\"\"Load an image from file into a numpy array.\n",
    "\n",
    "  Puts image into numpy array to feed into tensorflow graph.\n",
    "  Note that by convention we put it into a numpy array with shape\n",
    "  (height, width, channels), where channels=3 for RGB.\n",
    "\n",
    "  Args:\n",
    "    path: a file path (this can be local or on colossus)\n",
    "\n",
    "  Returns:\n",
    "    uint8 numpy array with shape (img_height, img_width, 3)\n",
    "  \"\"\"\n",
    "  img_data = tf.io.gfile.GFile(path, 'rb').read()\n",
    "  image = Image.open(BytesIO(img_data))\n",
    "  (im_width, im_height) = image.size\n",
    "  return np.array(image.getdata()).reshape(\n",
    "      (im_height, im_width, 3)).astype(np.uint8)\n",
    "\n",
    "# Load the COCO Label Map\n",
    "category_index = {\n",
    "    1: {'id': 1, 'name': 'person'},\n",
    "    2: {'id': 2, 'name': 'bicycle'},\n",
    "    3: {'id': 3, 'name': 'car'},\n",
    "    4: {'id': 4, 'name': 'motorcycle'},\n",
    "    5: {'id': 5, 'name': 'airplane'},\n",
    "    6: {'id': 6, 'name': 'bus'},\n",
    "    7: {'id': 7, 'name': 'train'},\n",
    "    8: {'id': 8, 'name': 'truck'},\n",
    "    9: {'id': 9, 'name': 'boat'},\n",
    "    10: {'id': 10, 'name': 'traffic light'},\n",
    "    11: {'id': 11, 'name': 'fire hydrant'},\n",
    "    13: {'id': 13, 'name': 'stop sign'},\n",
    "    14: {'id': 14, 'name': 'parking meter'},\n",
    "    15: {'id': 15, 'name': 'bench'},\n",
    "    16: {'id': 16, 'name': 'bird'},\n",
    "    17: {'id': 17, 'name': 'cat'},\n",
    "    18: {'id': 18, 'name': 'dog'},\n",
    "    19: {'id': 19, 'name': 'horse'},\n",
    "    20: {'id': 20, 'name': 'sheep'},\n",
    "    21: {'id': 21, 'name': 'cow'},\n",
    "    22: {'id': 22, 'name': 'elephant'},\n",
    "    23: {'id': 23, 'name': 'bear'},\n",
    "    24: {'id': 24, 'name': 'zebra'},\n",
    "    25: {'id': 25, 'name': 'giraffe'},\n",
    "    27: {'id': 27, 'name': 'backpack'},\n",
    "    28: {'id': 28, 'name': 'umbrella'},\n",
    "    31: {'id': 31, 'name': 'handbag'},\n",
    "    32: {'id': 32, 'name': 'tie'},\n",
    "    33: {'id': 33, 'name': 'suitcase'},\n",
    "    34: {'id': 34, 'name': 'frisbee'},\n",
    "    35: {'id': 35, 'name': 'skis'},\n",
    "    36: {'id': 36, 'name': 'snowboard'},\n",
    "    37: {'id': 37, 'name': 'sports ball'},\n",
    "    38: {'id': 38, 'name': 'kite'},\n",
    "    39: {'id': 39, 'name': 'baseball bat'},\n",
    "    40: {'id': 40, 'name': 'baseball glove'},\n",
    "    41: {'id': 41, 'name': 'skateboard'},\n",
    "    42: {'id': 42, 'name': 'surfboard'},\n",
    "    43: {'id': 43, 'name': 'tennis racket'},\n",
    "    44: {'id': 44, 'name': 'bottle'},\n",
    "    46: {'id': 46, 'name': 'wine glass'},\n",
    "    47: {'id': 47, 'name': 'cup'},\n",
    "    48: {'id': 48, 'name': 'fork'},\n",
    "    49: {'id': 49, 'name': 'knife'},\n",
    "    50: {'id': 50, 'name': 'spoon'},\n",
    "    51: {'id': 51, 'name': 'bowl'},\n",
    "    52: {'id': 52, 'name': 'banana'},\n",
    "    53: {'id': 53, 'name': 'apple'},\n",
    "    54: {'id': 54, 'name': 'sandwich'},\n",
    "    55: {'id': 55, 'name': 'orange'},\n",
    "    56: {'id': 56, 'name': 'broccoli'},\n",
    "    57: {'id': 57, 'name': 'carrot'},\n",
    "    58: {'id': 58, 'name': 'hot dog'},\n",
    "    59: {'id': 59, 'name': 'pizza'},\n",
    "    60: {'id': 60, 'name': 'donut'},\n",
    "    61: {'id': 61, 'name': 'cake'},\n",
    "    62: {'id': 62, 'name': 'chair'},\n",
    "    63: {'id': 63, 'name': 'couch'},\n",
    "    64: {'id': 64, 'name': 'potted plant'},\n",
    "    65: {'id': 65, 'name': 'bed'},\n",
    "    67: {'id': 67, 'name': 'dining table'},\n",
    "    70: {'id': 70, 'name': 'toilet'},\n",
    "    72: {'id': 72, 'name': 'tv'},\n",
    "    73: {'id': 73, 'name': 'laptop'},\n",
    "    74: {'id': 74, 'name': 'mouse'},\n",
    "    75: {'id': 75, 'name': 'remote'},\n",
    "    76: {'id': 76, 'name': 'keyboard'},\n",
    "    77: {'id': 77, 'name': 'cell phone'},\n",
    "    78: {'id': 78, 'name': 'microwave'},\n",
    "    79: {'id': 79, 'name': 'oven'},\n",
    "    80: {'id': 80, 'name': 'toaster'},\n",
    "    81: {'id': 81, 'name': 'sink'},\n",
    "    82: {'id': 82, 'name': 'refrigerator'},\n",
    "    84: {'id': 84, 'name': 'book'},\n",
    "    85: {'id': 85, 'name': 'clock'},\n",
    "    86: {'id': 86, 'name': 'vase'},\n",
    "    87: {'id': 87, 'name': 'scissors'},\n",
    "    88: {'id': 88, 'name': 'teddy bear'},\n",
    "    89: {'id': 89, 'name': 'hair drier'},\n",
    "    90: {'id': 90, 'name': 'toothbrush'},\n",
    "}"
   ]
  },
  {
   "cell_type": "code",
   "execution_count": 3,
   "metadata": {
    "code_folding": [
     0
    ]
   },
   "outputs": [],
   "source": [
    "def compute_iou(box1, box2, X, Y):\n",
    "    '''\n",
    "    ymin, xmin, ymax, xmax = box\n",
    "    把纵坐标当成X，横坐标当成Y，懒得改了...\n",
    "    '''\n",
    "    Xmin1, Ymin1, Xmax1, Ymax1 = box1\n",
    "    Xmin2, Ymin2, Xmax2, Ymax2 = box2\n",
    "    Xmin1 = X*Xmin1; Xmax1 = X*Xmax1; Xmin2 = X*Xmin2; Xmax2 = X*Xmax2\n",
    "    Ymin1 = Y*Ymin1; Ymax1 = Y*Ymax1; Ymin2 = Y*Ymin2; Ymax2 = Y*Ymax2\n",
    "    # 获得相交区域的左上角坐标和右下角坐标 min = max(min) max = min(max)\n",
    "    inter_Xmin = max(Xmin1, Xmin2)\n",
    "    inter_Ymin = max(Ymin1, Ymin2)\n",
    "    inter_Xmax = min(Xmax1, Xmax2)\n",
    "    inter_Ymax = min(Ymax1, Ymax2)\n",
    "\n",
    "    # 以免不相交\n",
    "    W = max(0, inter_Xmax - inter_Xmin)\n",
    "    H = max(0, inter_Ymax - inter_Ymin)\n",
    "\n",
    "    # 计算相交区域面积\n",
    "    inter_area = W * H\n",
    "\n",
    "    # 计算并集面积\n",
    "    merge_area = (Xmax1 - Xmin1) * (Ymax1 - Ymin1) + (Xmax2 - Xmin2) * (Ymax2 - Ymin2)\n",
    "\n",
    "    # 计算IOU\n",
    "    IOU = inter_area / (merge_area - inter_area + 1e-6)\n",
    "\n",
    "    return Xmin1, Ymin1, Xmax1, Ymax1,IOU"
   ]
  },
  {
   "cell_type": "code",
   "execution_count": 4,
   "metadata": {},
   "outputs": [],
   "source": [
    "def result_over_score_thersh(detections,score_thersh=0.5):\n",
    "    (boxes,classes,scores) = (detections['detection_boxes'][0].numpy(),\n",
    "        detections['detection_classes'][0].numpy().astype(np.int32),\n",
    "        detections['detection_scores'][0].numpy())\n",
    "    truth_num=sum(scores>score_thersh)\n",
    "    (truth_boxes,truth_classes,truth_scores) = (boxes[0:truth_num],classes[0:truth_num],scores[0:truth_num])\n",
    "    truth_detections = {'boxes':truth_boxes, 'classes':truth_classes, 'scores':truth_scores}\n",
    "    return truth_detections\n",
    "# detections_result = result_over_score_thersh(detections)"
   ]
  },
  {
   "cell_type": "code",
   "execution_count": 5,
   "metadata": {},
   "outputs": [],
   "source": [
    "import os\n",
    "os.environ[\"CUDA_VISIBLE_DEVICES\"] = \"0,1,2,3\"\n",
    "os.environ[\"CUDA_VISIBLE_DEVICES\"] = \"1\""
   ]
  },
  {
   "cell_type": "code",
   "execution_count": 6,
   "metadata": {},
   "outputs": [],
   "source": [
    "# @title Choose the model to use, then evaluate the cell.\n",
    "MODELS = {'ssd_mo_320': 'ssd_mobilenet_v2_320x320_coco17_tpu-8', \n",
    "          'rcnn_res_1024': 'faster_rcnn_resnet50_v1_1024x1024_coco17_tpu-8',\n",
    "          'ground_truth': 'faster_rcnn_inception_resnet_v2_1024x1024_coco17_tpu-8'}\n",
    "\n",
    "model_display_name = 'rcnn_res_1024' # @param ['centernet_with_keypoints', 'centernet_without_keypoints']\n",
    "model_name = MODELS[model_display_name]"
   ]
  },
  {
   "cell_type": "code",
   "execution_count": 7,
   "metadata": {},
   "outputs": [
    {
     "data": {
      "text/plain": [
       "'faster_rcnn_resnet50_v1_1024x1024_coco17_tpu-8'"
      ]
     },
     "execution_count": 7,
     "metadata": {},
     "output_type": "execute_result"
    }
   ],
   "source": [
    "model_name"
   ]
  },
  {
   "cell_type": "code",
   "execution_count": 8,
   "metadata": {},
   "outputs": [],
   "source": [
    "path = \"/home/hezhaoliang/github/\"\n",
    "model_path = \"/home/hezhaoliang/.keras/models/\"+model_name+\"/saved_model/\""
   ]
  },
  {
   "cell_type": "code",
   "execution_count": 9,
   "metadata": {
    "colab": {},
    "colab_type": "code",
    "id": "Z2p-PmKLYCVU"
   },
   "outputs": [
    {
     "name": "stdout",
     "output_type": "stream",
     "text": [
      "Elapsed time: 12.667657613754272s\n"
     ]
    }
   ],
   "source": [
    "start_time = time.time()\n",
    "tf.keras.backend.clear_session()\n",
    "detect_fn = tf.saved_model.load(model_path)\n",
    "end_time = time.time()\n",
    "elapsed_time = end_time - start_time\n",
    "print('Elapsed time: ' + str(elapsed_time) + 's')"
   ]
  },
  {
   "cell_type": "code",
   "execution_count": 15,
   "metadata": {
    "colab": {},
    "colab_type": "code",
    "id": "vukkhd5-9NSL"
   },
   "outputs": [
    {
     "name": "stdout",
     "output_type": "stream",
     "text": [
      "Elapsed time: 0.12782645225524902 second per image\n"
     ]
    }
   ],
   "source": [
    "resolution = \"1024x1024\" # \"640x640\" \"320x320\" \n",
    "# image_dir = path+'models/research/object_detection/test_images'\n",
    "image_dir = \"/home/hezhaoliang/PerConfigure/dataset/youtube/demo1_10s_15_\"+resolution\n",
    "result_path = \"/home/hezhaoliang/PerConfigure/results/\"+model_display_name #\"detections_results\"\n",
    "elapsed = []\n",
    "detections_results = []\n",
    "image_number = 153\n",
    "for i in range(image_number):   \n",
    "#   image_path = os.path.join(image_dir, 'image' + str(i + 1) + '.jpg')\n",
    "  image_path = os.path.join(image_dir, 'image-' + str(i + 1) + '.jpg')\n",
    "  image_np = load_image_into_numpy_array(image_path)\n",
    "  input_tensor = np.expand_dims(image_np, 0)\n",
    "  start_time = time.time()\n",
    "  detections = detect_fn(input_tensor)\n",
    "  end_time = time.time()\n",
    "  elapsed.append(end_time - start_time)\n",
    "  detections_result =  result_over_score_thersh(detections)\n",
    "  detections_results.append(detections_result)\n",
    "#   plt.rcParams['figure.figsize'] = [42, 21]\n",
    "#   label_id_offset = 1\n",
    "#   image_np_with_detections = image_np.copy()\n",
    "#   viz_utils.visualize_boxes_and_labels_on_image_array(\n",
    "#         image_np_with_detections,\n",
    "#         detections['detection_boxes'][0].numpy(),\n",
    "#         detections['detection_classes'][0].numpy().astype(np.int32),\n",
    "#         detections['detection_scores'][0].numpy(),\n",
    "#         category_index,\n",
    "#         use_normalized_coordinates=True,\n",
    "#         max_boxes_to_draw=200,\n",
    "#         min_score_thresh=.30,\n",
    "#         agnostic_mode=False)\n",
    "#   plt.subplot(image_number, 1, i+1)\n",
    "#   plt.imshow(image_np_with_detections)\n",
    "with open(result_path+'.defaultdict', 'wb') as f:\n",
    "    pickle.dump(detections_results, f)\n",
    "with open(result_path+'.defaultdict', 'rb') as f:\n",
    "    ground_truths = pickle.load(f)\n",
    "mean_elapsed = sum(elapsed[1:]) / float(len(elapsed)-1)\n",
    "print('Elapsed time: ' + str(mean_elapsed) + ' second per image')"
   ]
  },
  {
   "cell_type": "code",
   "execution_count": 18,
   "metadata": {},
   "outputs": [
    {
     "data": {
      "text/plain": [
       "3"
      ]
     },
     "execution_count": 18,
     "metadata": {},
     "output_type": "execute_result"
    }
   ],
   "source": [
    "len(ground_truths)"
   ]
  },
  {
   "cell_type": "code",
   "execution_count": 16,
   "metadata": {},
   "outputs": [
    {
     "data": {
      "text/plain": [
       "[{'boxes': array([[0.33864772, 0.3281252 , 0.41157007, 0.39268097],\n",
       "         [0.05120193, 0.61047405, 0.10545065, 0.6483168 ],\n",
       "         [0.39458755, 0.76962364, 0.5020651 , 0.83852494],\n",
       "         [0.4706258 , 0.2053618 , 0.5842914 , 0.2928001 ],\n",
       "         [0.39287895, 0.76422435, 0.50092006, 0.8353104 ],\n",
       "         [0.4703747 , 0.20697436, 0.5837997 , 0.2935365 ]], dtype=float32),\n",
       "  'classes': array([3, 3, 8, 8, 3, 3], dtype=int32),\n",
       "  'scores': array([0.97308314, 0.69923055, 0.64112085, 0.62551105, 0.53636813,\n",
       "         0.5237527 ], dtype=float32)},\n",
       " {'boxes': array([[3.3651888e-01, 3.3459693e-01, 4.1179997e-01, 3.9732474e-01],\n",
       "         [3.9854392e-01, 7.6783913e-01, 5.0485849e-01, 8.3768934e-01],\n",
       "         [6.0779071e-01, 3.3180043e-04, 7.8417325e-01, 2.8219119e-02],\n",
       "         [4.6821800e-01, 2.1095462e-01, 5.8050388e-01, 2.9819962e-01],\n",
       "         [5.0162226e-02, 6.1104304e-01, 1.0217616e-01, 6.5027541e-01],\n",
       "         [4.6854100e-01, 2.1065286e-01, 5.8210415e-01, 2.9533920e-01]],\n",
       "        dtype=float32),\n",
       "  'classes': array([3, 8, 3, 3, 3, 8], dtype=int32),\n",
       "  'scores': array([0.9843813 , 0.743039  , 0.7298132 , 0.72380346, 0.6701349 ,\n",
       "         0.50103927], dtype=float32)},\n",
       " {'boxes': array([[3.33709836e-01, 3.39204103e-01, 4.08480465e-01, 4.02243584e-01],\n",
       "         [4.01174039e-01, 7.64259577e-01, 5.08424461e-01, 8.34341884e-01],\n",
       "         [4.96574491e-02, 6.12452388e-01, 1.00151256e-01, 6.51328444e-01],\n",
       "         [4.65785176e-01, 2.14836285e-01, 5.77540457e-01, 2.98569560e-01],\n",
       "         [6.14583015e-01, 1.61720440e-04, 8.01900864e-01, 3.35673243e-02]],\n",
       "        dtype=float32),\n",
       "  'classes': array([3, 8, 3, 3, 3], dtype=int32),\n",
       "  'scores': array([0.98001444, 0.7027788 , 0.6514846 , 0.5958891 , 0.56324136],\n",
       "        dtype=float32)}]"
      ]
     },
     "execution_count": 16,
     "metadata": {},
     "output_type": "execute_result"
    }
   ],
   "source": [
    "ground_truths"
   ]
  },
  {
   "cell_type": "code",
   "execution_count": 17,
   "metadata": {},
   "outputs": [
    {
     "data": {
      "text/plain": [
       "[0.13752174377441406, 0.1271519660949707, 0.12850093841552734]"
      ]
     },
     "execution_count": 17,
     "metadata": {},
     "output_type": "execute_result"
    }
   ],
   "source": [
    "elapsed"
   ]
  }
 ],
 "metadata": {
  "colab": {
   "collapsed_sections": [],
   "name": "inference_from_saved_model_tf2_colab.ipynb",
   "provenance": []
  },
  "kernelspec": {
   "display_name": "Inference",
   "language": "python",
   "name": "perconfigure"
  },
  "language_info": {
   "codemirror_mode": {
    "name": "ipython",
    "version": 3
   },
   "file_extension": ".py",
   "mimetype": "text/x-python",
   "name": "python",
   "nbconvert_exporter": "python",
   "pygments_lexer": "ipython3",
   "version": "3.7.7"
  }
 },
 "nbformat": 4,
 "nbformat_minor": 1
}
